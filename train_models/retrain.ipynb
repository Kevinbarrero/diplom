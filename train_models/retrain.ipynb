{
 "cells": [
  {
   "cell_type": "code",
   "execution_count": null,
   "metadata": {},
   "outputs": [],
   "source": [
    "import yfinance as yf\n",
    "\n",
    "stock_symbol = '^GSPC'\n",
    "stock = yf.Ticker(stock_symbol)\n",
    "hist = stock.history(period=\"10y\")\n",
    "df = hist.drop(columns=['Dividends', 'Stock Splits'])\n",
    "df.head()"
   ]
  },
  {
   "cell_type": "code",
   "execution_count": null,
   "metadata": {},
   "outputs": [],
   "source": [
    "df['open'] = df['Open']\n",
    "df['high'] = df['High']\n",
    "df['low'] = df['Low']\n",
    "df['close'] = df['Close']\n",
    "df['volume'] = df['Volume']"
   ]
  },
  {
   "cell_type": "code",
   "execution_count": null,
   "metadata": {},
   "outputs": [],
   "source": [
    "import pandas as pd\n",
    "import pandas_ta as ta\n",
    "\n",
    "def generate_patterns(df):\n",
    "    patterns = df.ta.cdl_pattern(name=['doji', 'inside'])\n",
    "    patterns = patterns.replace(0, -5000)\n",
    "    return patterns\n",
    "def generate_cycles(df):\n",
    "    cycles = pd.DataFrame(index=df.index)\n",
    "    cycles['ebsw'] =ta.ebsw(df['close'])\n",
    "    cycles['atr'] = ta.atr(df['high'], df['low'], df['close'], length=7)\n",
    "    z = ta.cdl_z(df['open'], df['high'], df['low'], df['close'])\n",
    "    cycles['open_z'] = z['open_Z_30_1']\n",
    "    cycles['high_z'] = z['high_Z_30_1']\n",
    "    cycles['low_z'] =  z['low_Z_30_1']\n",
    "    cycles['close_z'] = z['close_Z_30_1']\n",
    "   \n",
    "    \n",
    "    return cycles\n",
    "def generate_stats(df):\n",
    "    t = 7\n",
    "    stats = pd.DataFrame(index=df.index)\n",
    "    \n",
    "    stats['dev'] = ta.stdev(df['close'], length=t)\n",
    "    stats['ema20'] = ta.ema(df['close'], length=20)\n",
    "    stats['ema50'] = ta.ema(df['close'], length=50)\n",
    "    # stats['ema100'] = ta.ema(df['close'], length=100)\n",
    "    # stats['ema200'] = ta.ema(df['close'], length=200)\n",
    "    stats['rsi6'] = ta.rsi(df['close'], length=6)\n",
    "    stats['rsi12'] = ta.rsi(df['close'], length=12)\n",
    "    stats['adx'] = ta.adx(df['high'], df['low'], df['close'], length=24)['ADX_24']\n",
    "    # stats['sar'] = ta.sar(df['high'], df['low'])\n",
    "    bbands = ta.bbands(df['close'], length=t, std=2.0)\n",
    "    # print(bbands.columns)\n",
    "    stats['b_upper'] = bbands['BBU_7_2.0']\n",
    "    stats['b_middle'] = bbands['BBM_7_2.0']\n",
    "    stats['b_lower'] = bbands['BBL_7_2.0']\n",
    "    stats['percentage_difference'] = (df['high'] - df['low']) / df['low'] * 100\n",
    "    stats['percentage_change'] = df['close'].pct_change()\n",
    "    stats['min_price'] = df['close'].rolling(3).min()\n",
    "    stats['max_price'] = df['close'].rolling(3).max()\n",
    "    stats['next_day_close'] = df['close'].shift(-1)\n",
    "    \n",
    "    return stats\n",
    "\n",
    "def generate_ind(df):\n",
    "    t = 7\n",
    "    stats = pd.DataFrame(index=df.index)\n",
    "\n",
    "    stats['var'] = ta.variance(df['close'], length=t)\n",
    "    a = ta.aroon(df['high'], df['low'], length=t)\n",
    "    # stats['aroonD'], stats['aroonU'], stats['aroonSC'] = ta.aroon(df['high'], df['low'], length=t)\n",
    "    stats['aroond'] = a['AROOND_7']\n",
    "    stats['aroonu'] = a['AROONU_7']\n",
    "    stats['aroonc'] = a['AROONOSC_7']\n",
    "    # print(aroon.columns)\n",
    "    # stats['aroon'] = aroon['Aroon Up'] - aroon['Aroon Down']\n",
    "    stats['bop'] = ta.bop(df['open'], df['high'], df['low'], df['close'])\n",
    "    stats['cci'] = ta.cci(df['high'], df['low'], df['close'], length=t)\n",
    "    stats['mom'] = ta.mom(df['close'], length=t)\n",
    "    stats['roc'] = ta.roc(df['close'], length=t) \n",
    "    # stats['rocp'] = ta.rocp(df['close'], length=t)\n",
    "    stats['willr'] = ta.willr(df['high'], df['low'], df['close'], length=t)\n",
    "    # stats = stats.astype(float)\n",
    "\n",
    "    return stats"
   ]
  },
  {
   "cell_type": "code",
   "execution_count": null,
   "metadata": {},
   "outputs": [],
   "source": [
    "stats = generate_stats(df)\n",
    "patterns = generate_patterns(df)\n",
    "cycles = generate_cycles(df)\n",
    "cycles_cols = cycles.columns.to_list()\n",
    "indicators = generate_ind(df)\n",
    "df = pd.concat([df, patterns], axis=1)\n",
    "df = pd.concat([df, cycles], axis=1)\n",
    "df = pd.concat([df, stats], axis=1)\n",
    "df = pd.concat([df, indicators], axis=1)\n",
    "df = df.dropna()\n",
    "# df = df.reset_index(drop=True)"
   ]
  },
  {
   "cell_type": "code",
   "execution_count": null,
   "metadata": {},
   "outputs": [],
   "source": [
    "import joblib\n",
    "\n",
    "sc = joblib.load('scaler2.pkl')\n",
    "columns_norm = cycles.columns.to_list() + indicators.columns.to_list() \n",
    "df[columns_norm] = sc.transform(df[columns_norm])"
   ]
  },
  {
   "cell_type": "code",
   "execution_count": null,
   "metadata": {},
   "outputs": [],
   "source": [
    "columns_norm"
   ]
  },
  {
   "cell_type": "code",
   "execution_count": null,
   "metadata": {},
   "outputs": [],
   "source": [
    "df_test = df[df.index >= '2024-03-11']\n",
    "df = df[df.index <= '2024-03-11']"
   ]
  },
  {
   "cell_type": "code",
   "execution_count": null,
   "metadata": {},
   "outputs": [],
   "source": [
    "features = ['high','low','close'] +  stats.columns.to_list()[:-1] + columns_norm + patterns.columns.to_list()\n",
    "X_lin = df[features].values.reshape(df[features].shape[0], 1, df[features].shape[1])\n",
    "X_test = df_test[features].values.reshape(df_test[features].shape[0], 1, df_test[features].shape[1])\n",
    "Y_lin = df['next_day_close'].values\n",
    "Y_test = df_test['next_day_close'].values"
   ]
  },
  {
   "cell_type": "code",
   "execution_count": null,
   "metadata": {},
   "outputs": [],
   "source": [
    "from tensorflow.python.keras.backend import set_session\n",
    "import tensorflow.compat.v1 as tf\n",
    "config = tf.ConfigProto()\n",
    "config.gpu_options.allow_growth = True\n",
    "sess = tf.Session(config=config)\n",
    "set_session(sess)"
   ]
  },
  {
   "cell_type": "code",
   "execution_count": null,
   "metadata": {},
   "outputs": [],
   "source": [
    "def r2_metric(y_true, y_pred):\n",
    "    SS_res = tf.reduce_sum(tf.square(y_true - y_pred))\n",
    "    SS_tot = tf.reduce_sum(tf.square(y_true - tf.reduce_mean(y_true)))\n",
    "    return (1 - SS_res / (SS_tot + tf.keras.backend.epsilon()))"
   ]
  },
  {
   "cell_type": "code",
   "execution_count": null,
   "metadata": {},
   "outputs": [],
   "source": [
    "from keras.models import load_model\n",
    "model = load_model('best_price4.keras', custom_objects={'r2_metric': r2_metric})"
   ]
  },
  {
   "cell_type": "code",
   "execution_count": null,
   "metadata": {},
   "outputs": [],
   "source": [
    "from keras.callbacks import ModelCheckpoint\n",
    "\n",
    "best_price = ModelCheckpoint('best_price4.keras', save_best_only=True, \n",
    "                            monitor='val_r2_metric', mode='max')\n",
    "\n",
    "model.fit(X_lin,Y_lin, epochs=500, batch_size=32, verbose=1, shuffle=False, \n",
    "        validation_data=[X_test, Y_test], callbacks=[best_price])"
   ]
  },
  {
   "cell_type": "code",
   "execution_count": null,
   "metadata": {},
   "outputs": [],
   "source": [
    "from keras.models import load_model\n",
    "model = load_model('best_price4.keras',custom_objects={'r2_metric': r2_metric})"
   ]
  },
  {
   "cell_type": "code",
   "execution_count": null,
   "metadata": {},
   "outputs": [],
   "source": [
    "predicted = model.predict(X_test)\n",
    "df_test['predictions'] = predicted"
   ]
  },
  {
   "cell_type": "code",
   "execution_count": null,
   "metadata": {},
   "outputs": [],
   "source": [
    "from sklearn.metrics import mean_squared_error, mean_absolute_error, r2_score, mean_absolute_percentage_error\n",
    "import matplotlib.pyplot as plt\n",
    "import numpy as np\n",
    "\n",
    "predictions = df_test['predictions']\n",
    "Y_test = df_test['next_day_close']\n",
    "\n",
    "mse = mean_squared_error(df_test['next_day_close'], df_test['predictions'])\n",
    "rmse = np.sqrt(mse)\n",
    "print('Root Mean Squared Error:', rmse)\n",
    "print(\"MAPE:\", mean_absolute_percentage_error(Y_test, predictions))\n",
    "print(\"MAE:\", mean_absolute_error(Y_test, predictions))\n",
    "print(\"r2:\", r2_score(Y_test, predictions))\n",
    "plt.figure(figsize=(10, 5))  \n",
    "# Plotting with Matplotlib\n",
    "plt.plot(df_test.index, df_test.next_day_close, label='Actual')\n",
    "plt.plot(df_test.index, predictions, color='red', label='Predicted')\n",
    "plt.title('Нейронная сеть LSTM Предсказания')\n",
    "plt.xlabel('Дата')\n",
    "plt.ylabel('Цена')\n",
    "plt.xticks(rotation=45)\n",
    "plt.legend()\n",
    "plt.show()"
   ]
  }
 ],
 "metadata": {
  "kernelspec": {
   "display_name": "testenv",
   "language": "python",
   "name": "python3"
  },
  "language_info": {
   "codemirror_mode": {
    "name": "ipython",
    "version": 3
   },
   "file_extension": ".py",
   "mimetype": "text/x-python",
   "name": "python",
   "nbconvert_exporter": "python",
   "pygments_lexer": "ipython3",
   "version": "3.10.13"
  }
 },
 "nbformat": 4,
 "nbformat_minor": 2
}
